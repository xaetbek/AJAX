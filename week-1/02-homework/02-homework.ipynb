{
  "cells": [
    {
      "cell_type": "markdown",
      "id": "76639b6d-da73-4e1e-8aaa-0070a2403485",
      "metadata": {
        "id": "76639b6d-da73-4e1e-8aaa-0070a2403485"
      },
      "source": [
        "# Homework: Variables/Boolean Expressions/__`if`__ Statements/Pseudocode\n",
        "\n",
        "## **Submission Guidelines**\n",
        "* Focus on completing Exercises 1, 2 and 3. Exercises 4 and 5 are _stretch challenges_.\n",
        "* Submit your work as a single Python file (__`.py`__) or a Jupyter Notebook (__`.ipynb`__).\n",
        "* Clearly label each exercise and include comments to explain your logic.\n",
        "\n",
        "## Instructions\n",
        "\n",
        "Complete the following exercises in a single Python file or Jupyter Notebook. Clearly label each exercise and when needed, include comments explaining your logic. Focus on completing Exercise 1 through 4. Exercise 5 is a _stretch challenge_."
      ]
    },
    {
      "cell_type": "markdown",
      "id": "1b3cec93-6b5b-4d78-81ab-17ab17b75a25",
      "metadata": {
        "id": "1b3cec93-6b5b-4d78-81ab-17ab17b75a25"
      },
      "source": [
        "### Exercise 1: Variables\n",
        "* Each scenario below describes some data to be manipulated by your code. Choose appropriate variable names (and values) and create variables/expressions for these scenarios.\n",
        "  "
      ]
    },
    {
      "cell_type": "code",
      "execution_count": null,
      "id": "d2294621-440c-4667-87df-6306f0a70fec",
      "metadata": {
        "id": "d2294621-440c-4667-87df-6306f0a70fec"
      },
      "outputs": [],
      "source": []
    },
    {
      "cell_type": "markdown",
      "id": "8a3f8bb8-024e-4645-b633-356db225d206",
      "metadata": {
        "id": "8a3f8bb8-024e-4645-b633-356db225d206"
      },
      "source": [
        "1. Determine the cost of some number of pounds of cement. Assume there is a sales tax that applies.\n",
        "  "
      ]
    },
    {
      "cell_type": "code",
      "execution_count": 1,
      "id": "d0fe743d-1acd-41a8-a0b9-92aedc8fc0a4",
      "metadata": {
        "colab": {
          "base_uri": "https://localhost:8080/"
        },
        "id": "d0fe743d-1acd-41a8-a0b9-92aedc8fc0a4",
        "outputId": "1baa534f-9c09-41cd-8f22-1874845df879"
      },
      "outputs": [
        {
          "output_type": "stream",
          "name": "stdout",
          "text": [
            "Total cost of 20 pounds of cement (with tax): $107.00\n"
          ]
        }
      ],
      "source": [
        "# 1. Determine the cost of some number of pounds of cement\n",
        "cement_price_per_pound = 5.0  # Cost per pound in dollars\n",
        "num_pounds = 20  # Total pounds of cement\n",
        "sales_tax_rate = 0.07  # 7% sales tax\n",
        "\n",
        "# Calculate total cost with tax\n",
        "total_cement_cost = (cement_price_per_pound * num_pounds) * (1 + sales_tax_rate)\n",
        "print(f\"Total cost of {num_pounds} pounds of cement (with tax): ${total_cement_cost:.2f}\")"
      ]
    },
    {
      "cell_type": "markdown",
      "id": "b1aa5351-43b1-401f-b15a-ecff2d4c393b",
      "metadata": {
        "id": "b1aa5351-43b1-401f-b15a-ecff2d4c393b"
      },
      "source": [
        "2. Given the cost of various containers of eggs (perhaps half a dozen, one dozen, and 1 1/2 dozen), determine the cost _per egg_ for each of those containers.\n",
        "  "
      ]
    },
    {
      "cell_type": "code",
      "execution_count": 7,
      "id": "e757836e-1848-434f-9301-d41470770f49",
      "metadata": {
        "colab": {
          "base_uri": "https://localhost:8080/"
        },
        "id": "e757836e-1848-434f-9301-d41470770f49",
        "outputId": "3174aee1-2e5c-40dc-dca1-a388d5ab387b"
      },
      "outputs": [
        {
          "output_type": "stream",
          "name": "stdout",
          "text": [
            "Cost per egg (half dozen): $0.50\n",
            "Cost per egg (one dozen): $0.46\n",
            "Cost per egg (one and a half dozen): $0.44\n"
          ]
        }
      ],
      "source": [
        "# 2. Calculate the cost per egg for different container sizes\n",
        "half_dozen_cost = 3.00  # Cost for 6 eggs\n",
        "one_dozen_cost = 5.50  # Cost for 12 eggs\n",
        "one_half_dozen_cost = 8.00  # Cost for 18 eggs\n",
        "\n",
        "# Compute cost per egg\n",
        "cost_per_egg_half_dozen = half_dozen_cost / 6\n",
        "cost_per_egg_one_dozen = one_dozen_cost / 12\n",
        "cost_per_egg_one_half_dozen = one_half_dozen_cost / 18\n",
        "\n",
        "print(f\"Cost per egg (half dozen): ${cost_per_egg_half_dozen:.2f}\")\n",
        "print(f\"Cost per egg (one dozen): ${cost_per_egg_one_dozen:.2f}\")\n",
        "print(f\"Cost per egg (one and a half dozen): ${cost_per_egg_one_half_dozen:.2f}\")"
      ]
    },
    {
      "cell_type": "markdown",
      "id": "192dfb2f-790e-4725-b201-3b803f4fc348",
      "metadata": {
        "id": "192dfb2f-790e-4725-b201-3b803f4fc348"
      },
      "source": [
        "3. Given an hourly wage and a number of hours worked, determine how much a worker should be paid for shoveling snow."
      ]
    },
    {
      "cell_type": "code",
      "execution_count": 8,
      "id": "9f098469-0470-4a68-ba73-721bd6526c2c",
      "metadata": {
        "colab": {
          "base_uri": "https://localhost:8080/"
        },
        "id": "9f098469-0470-4a68-ba73-721bd6526c2c",
        "outputId": "1cdc2116-127b-43ab-da68-5d62ef39b846"
      },
      "outputs": [
        {
          "output_type": "stream",
          "name": "stdout",
          "text": [
            "Total payment for shoveling snow: $75.00\n"
          ]
        }
      ],
      "source": [
        "# 3. Determine payment for shoveling snow\n",
        "hourly_wage = 15.00  # Hourly rate in dollars\n",
        "hours_worked = 5  # Total hours worked\n",
        "\n",
        "# Calculate total earnings\n",
        "total_payment = hourly_wage * hours_worked\n",
        "print(f\"Total payment for shoveling snow: ${total_payment:.2f}\")\n"
      ]
    },
    {
      "cell_type": "markdown",
      "id": "3a702132-7720-45b3-97d6-6dc7d4fc1113",
      "metadata": {
        "id": "3a702132-7720-45b3-97d6-6dc7d4fc1113"
      },
      "source": [
        "### Exercise 2: Boolean Expressions\n",
        "* Each scenario below describes some data to be manipulated by your code. Choose appropriate variable names (and values) and create Boolean expressions for these scenarios.\n",
        "  "
      ]
    },
    {
      "cell_type": "markdown",
      "id": "192e9f66-c2a7-4933-beaa-4666f57ac042",
      "metadata": {
        "id": "192e9f66-c2a7-4933-beaa-4666f57ac042"
      },
      "source": [
        "1. Given the number of hours worked in a week, determine whether the employee will receive any overtime pay.\n",
        "  "
      ]
    },
    {
      "cell_type": "code",
      "execution_count": 9,
      "id": "d99bbc14-4ab9-4cc2-abf4-0f847d4aa95c",
      "metadata": {
        "colab": {
          "base_uri": "https://localhost:8080/"
        },
        "id": "d99bbc14-4ab9-4cc2-abf4-0f847d4aa95c",
        "outputId": "f456ed04-42a1-4156-b26b-5bb8aedcf008"
      },
      "outputs": [
        {
          "output_type": "stream",
          "name": "stdout",
          "text": [
            "Employee eligible for overtime pay: True\n"
          ]
        }
      ],
      "source": [
        "# 1. Determine whether the employee will receive overtime pay\n",
        "hours_worked_week = 45  # Example hours worked in a week\n",
        "overtime_threshold = 40  # Overtime starts after 40 hours\n",
        "overtime_pay_eligible = hours_worked_week > overtime_threshold\n",
        "print(f\"Employee eligible for overtime pay: {overtime_pay_eligible}\")\n"
      ]
    },
    {
      "cell_type": "markdown",
      "id": "39e3ed1b-b146-4653-a011-05cc34913574",
      "metadata": {
        "id": "39e3ed1b-b146-4653-a011-05cc34913574"
      },
      "source": [
        "2. Determine whether someone else's name is the same as your name.\n",
        "  "
      ]
    },
    {
      "cell_type": "code",
      "execution_count": 10,
      "id": "99c07417-eb54-44db-8fdf-d890b0f48892",
      "metadata": {
        "colab": {
          "base_uri": "https://localhost:8080/"
        },
        "id": "99c07417-eb54-44db-8fdf-d890b0f48892",
        "outputId": "f5bc6cb0-c467-4e27-a0c0-83d8aa245f62"
      },
      "outputs": [
        {
          "output_type": "stream",
          "name": "stdout",
          "text": [
            "Does the other person have the same name as me? False\n"
          ]
        }
      ],
      "source": [
        "# 2. Determine whether someone else's name is the same as your name\n",
        "my_name = \"Alice\"\n",
        "other_person_name = \"Bob\"\n",
        "is_same_name = my_name == other_person_name\n",
        "print(f\"Does the other person have the same name as me? {is_same_name}\")"
      ]
    },
    {
      "cell_type": "markdown",
      "id": "906a7a13-ae3e-4369-8853-a970d326c03e",
      "metadata": {
        "id": "906a7a13-ae3e-4369-8853-a970d326c03e"
      },
      "source": [
        "3. Determine whether the number of consecutive days of rain is at least 3"
      ]
    },
    {
      "cell_type": "code",
      "execution_count": 11,
      "id": "490fd285-10c5-4d98-8bb5-fde0566e6064",
      "metadata": {
        "colab": {
          "base_uri": "https://localhost:8080/"
        },
        "id": "490fd285-10c5-4d98-8bb5-fde0566e6064",
        "outputId": "881fa6ba-b9ac-423e-9836-fad71bc5a2cd"
      },
      "outputs": [
        {
          "output_type": "stream",
          "name": "stdout",
          "text": [
            "Has it rained for at least 3 consecutive days? True\n"
          ]
        }
      ],
      "source": [
        "# 3. Determine whether the number of consecutive days of rain is at least 3\n",
        "days_of_rain = 4  # Example value\n",
        "rain_threshold = 3\n",
        "rain_streak = days_of_rain >= rain_threshold\n",
        "print(f\"Has it rained for at least 3 consecutive days? {rain_streak}\")\n"
      ]
    },
    {
      "cell_type": "markdown",
      "id": "6901b93f-56e3-4400-9acb-cee75d015682",
      "metadata": {
        "id": "6901b93f-56e3-4400-9acb-cee75d015682"
      },
      "source": [
        "### Exercise 3: Pseudocode\n",
        "* Turn the following bits of pseudocode into __`if`__ statements\n",
        "  "
      ]
    },
    {
      "cell_type": "markdown",
      "id": "9dfa5f07-9053-4497-ab09-a2dd4d4445f1",
      "metadata": {
        "id": "9dfa5f07-9053-4497-ab09-a2dd4d4445f1"
      },
      "source": [
        "1. Output a warning if the person's name is empty"
      ]
    },
    {
      "cell_type": "markdown",
      "id": "a3f4e55f-8d45-4fef-bfe2-a754e694872e",
      "metadata": {
        "id": "a3f4e55f-8d45-4fef-bfe2-a754e694872e"
      },
      "source": [
        "3. BMI can be calculated as 703 times weight in pounds, divided by height in inches squared. Output \"Healthy BMI\" if the calculated BMI is below 25."
      ]
    },
    {
      "cell_type": "markdown",
      "id": "8f66564d-86cf-4141-be27-fe41a0145695",
      "metadata": {
        "id": "8f66564d-86cf-4141-be27-fe41a0145695"
      },
      "source": [
        "2. Turn on the fuel warning light when the number of gallons remaining is less than 1.5"
      ]
    },
    {
      "cell_type": "markdown",
      "source": [
        "# 1. Output a warning if the person's name is empty\n",
        "if name == \"\":\n",
        "    print(\"Warning: Name cannot be empty\")\n",
        "\n",
        "# 2. Calculate BMI and output \"Healthy BMI\" if it is below 25\n",
        "bmi = (703 * weight) / (height ** 2)\n",
        "if bmi < 25:\n",
        "    print(\"Healthy BMI\")\n",
        "\n",
        "# 3. Turn on the fuel warning light when the number of gallons remaining is less than 1.5\n",
        "if gallons_remaining < 1.5:\n",
        "    print(\"Fuel warning: Low fuel level\")\n"
      ],
      "metadata": {
        "id": "P7ZTs0hT4Ism"
      },
      "id": "P7ZTs0hT4Ism"
    },
    {
      "cell_type": "markdown",
      "id": "2c55859e-fa56-4690-a8a6-70b73e1249fc",
      "metadata": {
        "id": "2c55859e-fa56-4690-a8a6-70b73e1249fc"
      },
      "source": [
        "### Exercise 4: if statements\n",
        "* Explain what each of the following __`if`__ statements is doing/asking"
      ]
    },
    {
      "cell_type": "code",
      "execution_count": 2,
      "id": "e282eb92-7ac0-47c8-9ee6-6311d7832a39",
      "metadata": {
        "colab": {
          "base_uri": "https://localhost:8080/"
        },
        "id": "e282eb92-7ac0-47c8-9ee6-6311d7832a39",
        "outputId": "831f6a87-8cf2-46ad-e146-241bb656a856"
      },
      "outputs": [
        {
          "output_type": "stream",
          "name": "stdout",
          "text": [
            "...\n"
          ]
        }
      ],
      "source": [
        "feet = 4\n",
        "inches = 8\n",
        "\n",
        "if feet * 12 + inches >= 56:\n",
        "    print('...')"
      ]
    },
    {
      "cell_type": "code",
      "execution_count": null,
      "id": "a403c893-6b7e-4497-9e44-14e1ca773181",
      "metadata": {
        "id": "a403c893-6b7e-4497-9e44-14e1ca773181"
      },
      "outputs": [],
      "source": []
    },
    {
      "cell_type": "code",
      "execution_count": null,
      "id": "d20594b7-6e22-49c9-af84-59f842357bc4",
      "metadata": {
        "id": "d20594b7-6e22-49c9-af84-59f842357bc4"
      },
      "outputs": [],
      "source": [
        "hours = 220\n",
        "days = 0\n",
        "\n",
        "if hours > 23:\n",
        "    days = hours // 24\n",
        "    print(days)\n",
        "\n",
        "print(hours - days * 24)"
      ]
    },
    {
      "cell_type": "code",
      "execution_count": null,
      "id": "64dac05b-d423-448f-8369-6f0f6b0cb9c3",
      "metadata": {
        "id": "64dac05b-d423-448f-8369-6f0f6b0cb9c3"
      },
      "outputs": [],
      "source": []
    },
    {
      "cell_type": "code",
      "execution_count": null,
      "id": "6b8c21b4-3a09-435d-a36c-0bde2fea31ad",
      "metadata": {
        "id": "6b8c21b4-3a09-435d-a36c-0bde2fea31ad"
      },
      "outputs": [],
      "source": [
        "eggs = 45\n",
        "\n",
        "if eggs >= 12:\n",
        "    print(eggs // 12, 'dozen')\n",
        "\n",
        "print('plus', eggs - (eggs // 12) * 12)"
      ]
    },
    {
      "cell_type": "code",
      "execution_count": null,
      "id": "23dee90b-6807-4ca7-8a3b-77a58c21217f",
      "metadata": {
        "id": "23dee90b-6807-4ca7-8a3b-77a58c21217f"
      },
      "outputs": [],
      "source": []
    },
    {
      "cell_type": "markdown",
      "id": "b0196bce-78f4-489f-8209-0e4d0eb601b9",
      "metadata": {
        "id": "b0196bce-78f4-489f-8209-0e4d0eb601b9"
      },
      "source": [
        "### Exercise 5: if statements\n",
        "1. Turn the following English description of a problem (steps) into pseudocode. Not that where you see \"find out\" below, you can either assume the value will be in a variable, or you can get input from the user. Remember this is pseudocode you are writing, so even though we haven't learned how to get input from the user, you could specify that action in your pseudocode.\n",
        "\n",
        "    1. find out how many people are in their party\n",
        "    1. find out the start time of the movie they want to see\n",
        "    1. find out how many seniors (62+) are in their party\n",
        "    1. find out how many students are in their party\n",
        "    1. the price of their tickets will be \\\\$10 each for movies that start after 4:30 pm and \\\\$7.50 for movies that start before 4:30 pm\n",
        "    1. seniors (62+) receive a 50% discount on the ticket price\n",
        "    1. students received a 25% discount on the ticket price\n",
        "    1. a group of 10+ paid at the same time saves \\\\$1 per ticket, on top of any other discounts\n",
        "\n",
        "1. Now turn your pseudocode into working Python code. Again, we haven't learned how to get input from the user but could also look it up or you could set variables with various values and ensure the result is correct."
      ]
    },
    {
      "cell_type": "code",
      "execution_count": null,
      "id": "c6738a10-12ad-410a-8b16-b1b8a517cece",
      "metadata": {
        "id": "c6738a10-12ad-410a-8b16-b1b8a517cece"
      },
      "outputs": [],
      "source": []
    }
  ],
  "metadata": {
    "kernelspec": {
      "display_name": "Python 3 (ipykernel)",
      "language": "python",
      "name": "python3"
    },
    "language_info": {
      "codemirror_mode": {
        "name": "ipython",
        "version": 3
      },
      "file_extension": ".py",
      "mimetype": "text/x-python",
      "name": "python",
      "nbconvert_exporter": "python",
      "pygments_lexer": "ipython3",
      "version": "3.13.1"
    },
    "colab": {
      "provenance": []
    }
  },
  "nbformat": 4,
  "nbformat_minor": 5
}